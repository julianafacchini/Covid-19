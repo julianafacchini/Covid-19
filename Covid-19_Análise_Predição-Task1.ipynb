{
 "cells": [
  {
   "cell_type": "markdown",
   "metadata": {},
   "source": [
    "No fim de 2019, o Novo Coronavírus foi nomeado como SARS-CoV-2. Este virus produz  a  doença  classificada  como  COVID-19,  sendo  agente  causador  de  uma  série  de  casos  de pneumonia. O  vírus tem alta transmissibilidade e provoca uma síndrome respiratória aguda que varia de casos leves – cerca de 80% – a casos muito graves com insuficiência respiratória –entre 5% e 10% dos casos. O primeiro caso registrado no brasil ocorreu em 26/02/2020, em SP, em exame realizado no Hospital Israelita Albert Einstein."
   ]
  },
  {
   "cell_type": "code",
   "execution_count": 1,
   "metadata": {},
   "outputs": [],
   "source": [
    "#Importando bibliotecas\n",
    "import pandas as pd\n",
    "import numpy as np\n",
    "import seaborn as sns\n",
    "import matplotlib.pyplot as plt\n",
    "%matplotlib inline\n",
    "from sklearn import metrics\n",
    "import warnings\n",
    "warnings.simplefilter(action='ignore', category=FutureWarning)\n",
    "warnings.filterwarnings(\"ignore\", category=FutureWarning)"
   ]
  },
  {
   "cell_type": "code",
   "execution_count": 2,
   "metadata": {},
   "outputs": [],
   "source": [
    "#Carregando dados\n",
    "data = pd.read_excel('dataset.xlsx')"
   ]
  },
  {
   "cell_type": "code",
   "execution_count": 3,
   "metadata": {},
   "outputs": [
    {
     "data": {
      "text/html": [
       "<div>\n",
       "<style scoped>\n",
       "    .dataframe tbody tr th:only-of-type {\n",
       "        vertical-align: middle;\n",
       "    }\n",
       "\n",
       "    .dataframe tbody tr th {\n",
       "        vertical-align: top;\n",
       "    }\n",
       "\n",
       "    .dataframe thead th {\n",
       "        text-align: right;\n",
       "    }\n",
       "</style>\n",
       "<table border=\"1\" class=\"dataframe\">\n",
       "  <thead>\n",
       "    <tr style=\"text-align: right;\">\n",
       "      <th></th>\n",
       "      <th>Patient ID</th>\n",
       "      <th>Patient age quantile</th>\n",
       "      <th>SARS-Cov-2 exam result</th>\n",
       "      <th>Patient addmited to regular ward (1=yes, 0=no)</th>\n",
       "      <th>Patient addmited to semi-intensive unit (1=yes, 0=no)</th>\n",
       "      <th>Patient addmited to intensive care unit (1=yes, 0=no)</th>\n",
       "      <th>Hematocrit</th>\n",
       "      <th>Hemoglobin</th>\n",
       "      <th>Platelets</th>\n",
       "      <th>Mean platelet volume</th>\n",
       "      <th>...</th>\n",
       "      <th>Hb saturation (arterial blood gases)</th>\n",
       "      <th>pCO2 (arterial blood gas analysis)</th>\n",
       "      <th>Base excess (arterial blood gas analysis)</th>\n",
       "      <th>pH (arterial blood gas analysis)</th>\n",
       "      <th>Total CO2 (arterial blood gas analysis)</th>\n",
       "      <th>HCO3 (arterial blood gas analysis)</th>\n",
       "      <th>pO2 (arterial blood gas analysis)</th>\n",
       "      <th>Arteiral Fio2</th>\n",
       "      <th>Phosphor</th>\n",
       "      <th>ctO2 (arterial blood gas analysis)</th>\n",
       "    </tr>\n",
       "  </thead>\n",
       "  <tbody>\n",
       "    <tr>\n",
       "      <th>0</th>\n",
       "      <td>44477f75e8169d2</td>\n",
       "      <td>13</td>\n",
       "      <td>negative</td>\n",
       "      <td>0</td>\n",
       "      <td>0</td>\n",
       "      <td>0</td>\n",
       "      <td>NaN</td>\n",
       "      <td>NaN</td>\n",
       "      <td>NaN</td>\n",
       "      <td>NaN</td>\n",
       "      <td>...</td>\n",
       "      <td>NaN</td>\n",
       "      <td>NaN</td>\n",
       "      <td>NaN</td>\n",
       "      <td>NaN</td>\n",
       "      <td>NaN</td>\n",
       "      <td>NaN</td>\n",
       "      <td>NaN</td>\n",
       "      <td>NaN</td>\n",
       "      <td>NaN</td>\n",
       "      <td>NaN</td>\n",
       "    </tr>\n",
       "    <tr>\n",
       "      <th>1</th>\n",
       "      <td>126e9dd13932f68</td>\n",
       "      <td>17</td>\n",
       "      <td>negative</td>\n",
       "      <td>0</td>\n",
       "      <td>0</td>\n",
       "      <td>0</td>\n",
       "      <td>0.236515</td>\n",
       "      <td>-0.02234</td>\n",
       "      <td>-0.517413</td>\n",
       "      <td>0.010677</td>\n",
       "      <td>...</td>\n",
       "      <td>NaN</td>\n",
       "      <td>NaN</td>\n",
       "      <td>NaN</td>\n",
       "      <td>NaN</td>\n",
       "      <td>NaN</td>\n",
       "      <td>NaN</td>\n",
       "      <td>NaN</td>\n",
       "      <td>NaN</td>\n",
       "      <td>NaN</td>\n",
       "      <td>NaN</td>\n",
       "    </tr>\n",
       "    <tr>\n",
       "      <th>2</th>\n",
       "      <td>a46b4402a0e5696</td>\n",
       "      <td>8</td>\n",
       "      <td>negative</td>\n",
       "      <td>0</td>\n",
       "      <td>0</td>\n",
       "      <td>0</td>\n",
       "      <td>NaN</td>\n",
       "      <td>NaN</td>\n",
       "      <td>NaN</td>\n",
       "      <td>NaN</td>\n",
       "      <td>...</td>\n",
       "      <td>NaN</td>\n",
       "      <td>NaN</td>\n",
       "      <td>NaN</td>\n",
       "      <td>NaN</td>\n",
       "      <td>NaN</td>\n",
       "      <td>NaN</td>\n",
       "      <td>NaN</td>\n",
       "      <td>NaN</td>\n",
       "      <td>NaN</td>\n",
       "      <td>NaN</td>\n",
       "    </tr>\n",
       "    <tr>\n",
       "      <th>3</th>\n",
       "      <td>f7d619a94f97c45</td>\n",
       "      <td>5</td>\n",
       "      <td>negative</td>\n",
       "      <td>0</td>\n",
       "      <td>0</td>\n",
       "      <td>0</td>\n",
       "      <td>NaN</td>\n",
       "      <td>NaN</td>\n",
       "      <td>NaN</td>\n",
       "      <td>NaN</td>\n",
       "      <td>...</td>\n",
       "      <td>NaN</td>\n",
       "      <td>NaN</td>\n",
       "      <td>NaN</td>\n",
       "      <td>NaN</td>\n",
       "      <td>NaN</td>\n",
       "      <td>NaN</td>\n",
       "      <td>NaN</td>\n",
       "      <td>NaN</td>\n",
       "      <td>NaN</td>\n",
       "      <td>NaN</td>\n",
       "    </tr>\n",
       "    <tr>\n",
       "      <th>4</th>\n",
       "      <td>d9e41465789c2b5</td>\n",
       "      <td>15</td>\n",
       "      <td>negative</td>\n",
       "      <td>0</td>\n",
       "      <td>0</td>\n",
       "      <td>0</td>\n",
       "      <td>NaN</td>\n",
       "      <td>NaN</td>\n",
       "      <td>NaN</td>\n",
       "      <td>NaN</td>\n",
       "      <td>...</td>\n",
       "      <td>NaN</td>\n",
       "      <td>NaN</td>\n",
       "      <td>NaN</td>\n",
       "      <td>NaN</td>\n",
       "      <td>NaN</td>\n",
       "      <td>NaN</td>\n",
       "      <td>NaN</td>\n",
       "      <td>NaN</td>\n",
       "      <td>NaN</td>\n",
       "      <td>NaN</td>\n",
       "    </tr>\n",
       "  </tbody>\n",
       "</table>\n",
       "<p>5 rows × 111 columns</p>\n",
       "</div>"
      ],
      "text/plain": [
       "        Patient ID  Patient age quantile SARS-Cov-2 exam result  \\\n",
       "0  44477f75e8169d2                    13               negative   \n",
       "1  126e9dd13932f68                    17               negative   \n",
       "2  a46b4402a0e5696                     8               negative   \n",
       "3  f7d619a94f97c45                     5               negative   \n",
       "4  d9e41465789c2b5                    15               negative   \n",
       "\n",
       "   Patient addmited to regular ward (1=yes, 0=no)  \\\n",
       "0                                               0   \n",
       "1                                               0   \n",
       "2                                               0   \n",
       "3                                               0   \n",
       "4                                               0   \n",
       "\n",
       "   Patient addmited to semi-intensive unit (1=yes, 0=no)  \\\n",
       "0                                                  0       \n",
       "1                                                  0       \n",
       "2                                                  0       \n",
       "3                                                  0       \n",
       "4                                                  0       \n",
       "\n",
       "   Patient addmited to intensive care unit (1=yes, 0=no)  Hematocrit  \\\n",
       "0                                                  0             NaN   \n",
       "1                                                  0        0.236515   \n",
       "2                                                  0             NaN   \n",
       "3                                                  0             NaN   \n",
       "4                                                  0             NaN   \n",
       "\n",
       "   Hemoglobin  Platelets  Mean platelet volume   ...  \\\n",
       "0         NaN        NaN                    NaN  ...   \n",
       "1    -0.02234  -0.517413               0.010677  ...   \n",
       "2         NaN        NaN                    NaN  ...   \n",
       "3         NaN        NaN                    NaN  ...   \n",
       "4         NaN        NaN                    NaN  ...   \n",
       "\n",
       "   Hb saturation (arterial blood gases)  pCO2 (arterial blood gas analysis)  \\\n",
       "0                                   NaN                                 NaN   \n",
       "1                                   NaN                                 NaN   \n",
       "2                                   NaN                                 NaN   \n",
       "3                                   NaN                                 NaN   \n",
       "4                                   NaN                                 NaN   \n",
       "\n",
       "   Base excess (arterial blood gas analysis)  \\\n",
       "0                                        NaN   \n",
       "1                                        NaN   \n",
       "2                                        NaN   \n",
       "3                                        NaN   \n",
       "4                                        NaN   \n",
       "\n",
       "   pH (arterial blood gas analysis)  Total CO2 (arterial blood gas analysis)  \\\n",
       "0                               NaN                                      NaN   \n",
       "1                               NaN                                      NaN   \n",
       "2                               NaN                                      NaN   \n",
       "3                               NaN                                      NaN   \n",
       "4                               NaN                                      NaN   \n",
       "\n",
       "   HCO3 (arterial blood gas analysis)  pO2 (arterial blood gas analysis)  \\\n",
       "0                                 NaN                                NaN   \n",
       "1                                 NaN                                NaN   \n",
       "2                                 NaN                                NaN   \n",
       "3                                 NaN                                NaN   \n",
       "4                                 NaN                                NaN   \n",
       "\n",
       "   Arteiral Fio2  Phosphor  ctO2 (arterial blood gas analysis)  \n",
       "0            NaN       NaN                                 NaN  \n",
       "1            NaN       NaN                                 NaN  \n",
       "2            NaN       NaN                                 NaN  \n",
       "3            NaN       NaN                                 NaN  \n",
       "4            NaN       NaN                                 NaN  \n",
       "\n",
       "[5 rows x 111 columns]"
      ]
     },
     "execution_count": 3,
     "metadata": {},
     "output_type": "execute_result"
    }
   ],
   "source": [
    "#Verificando as 5 primeiras linhas\n",
    "data.head()"
   ]
  },
  {
   "cell_type": "code",
   "execution_count": 4,
   "metadata": {},
   "outputs": [],
   "source": [
    "#Retirando coluna ID\n",
    "data.drop(columns = ('Patient ID'), axis = 1, inplace = True)"
   ]
  },
  {
   "cell_type": "code",
   "execution_count": 5,
   "metadata": {},
   "outputs": [
    {
     "name": "stdout",
     "output_type": "stream",
     "text": [
      "Patient age quantile 0\n",
      "SARS-Cov-2 exam result 0\n",
      "Patient addmited to regular ward (1=yes, 0=no) 0\n",
      "Patient addmited to semi-intensive unit (1=yes, 0=no) 0\n",
      "Patient addmited to intensive care unit (1=yes, 0=no) 0\n",
      "Hematocrit 5041\n",
      "Hemoglobin 5041\n",
      "Platelets 5042\n",
      "Mean platelet volume  5045\n",
      "Red blood Cells 5042\n",
      "Lymphocytes 5042\n",
      "Mean corpuscular hemoglobin concentration (MCHC) 5042\n",
      "Leukocytes 5042\n",
      "Basophils 5042\n",
      "Mean corpuscular hemoglobin (MCH) 5042\n",
      "Eosinophils 5042\n",
      "Mean corpuscular volume (MCV) 5042\n",
      "Monocytes 5043\n",
      "Red blood cell distribution width (RDW) 5042\n",
      "Serum Glucose 5436\n",
      "Respiratory Syncytial Virus 4290\n",
      "Influenza A 4290\n",
      "Influenza B 4290\n",
      "Parainfluenza 1 4292\n",
      "CoronavirusNL63 4292\n",
      "Rhinovirus/Enterovirus 4292\n",
      "Mycoplasma pneumoniae 5644\n",
      "Coronavirus HKU1 4292\n",
      "Parainfluenza 3 4292\n",
      "Chlamydophila pneumoniae 4292\n",
      "Adenovirus 4292\n",
      "Parainfluenza 4 4292\n",
      "Coronavirus229E 4292\n",
      "CoronavirusOC43 4292\n",
      "Inf A H1N1 2009 4292\n",
      "Bordetella pertussis 4292\n",
      "Metapneumovirus 4292\n",
      "Parainfluenza 2 4292\n",
      "Neutrophils 5131\n",
      "Urea 5247\n",
      "Proteina C reativa mg/dL 5138\n",
      "Creatinine 5220\n",
      "Potassium 5273\n",
      "Sodium 5274\n",
      "Influenza B, rapid test 4824\n",
      "Influenza A, rapid test 4824\n",
      "Alanine transaminase 5419\n",
      "Aspartate transaminase 5418\n",
      "Gamma-glutamyltransferase  5491\n",
      "Total Bilirubin 5462\n",
      "Direct Bilirubin 5462\n",
      "Indirect Bilirubin 5462\n",
      "Alkaline phosphatase 5500\n",
      "Ionized calcium  5594\n",
      "Strepto A 5312\n",
      "Magnesium 5604\n",
      "pCO2 (venous blood gas analysis) 5508\n",
      "Hb saturation (venous blood gas analysis) 5508\n",
      "Base excess (venous blood gas analysis) 5508\n",
      "pO2 (venous blood gas analysis) 5508\n",
      "Fio2 (venous blood gas analysis) 5643\n",
      "Total CO2 (venous blood gas analysis) 5508\n",
      "pH (venous blood gas analysis) 5508\n",
      "HCO3 (venous blood gas analysis) 5508\n",
      "Rods # 5547\n",
      "Segmented 5547\n",
      "Promyelocytes 5547\n",
      "Metamyelocytes 5547\n",
      "Myelocytes 5547\n",
      "Myeloblasts 5547\n",
      "Urine - Esterase 5584\n",
      "Urine - Aspect 5574\n",
      "Urine - pH 5574\n",
      "Urine - Hemoglobin 5574\n",
      "Urine - Bile pigments 5574\n",
      "Urine - Ketone Bodies 5587\n",
      "Urine - Nitrite 5643\n",
      "Urine - Density 5574\n",
      "Urine - Urobilinogen 5575\n",
      "Urine - Protein 5584\n",
      "Urine - Sugar 5644\n",
      "Urine - Leukocytes 5574\n",
      "Urine - Crystals 5574\n",
      "Urine - Red blood cells 5574\n",
      "Urine - Hyaline cylinders 5577\n",
      "Urine - Granular cylinders 5575\n",
      "Urine - Yeasts 5574\n",
      "Urine - Color 5574\n",
      "Partial thromboplastin time (PTT)  5644\n",
      "Relationship (Patient/Normal) 5553\n",
      "International normalized ratio (INR) 5511\n",
      "Lactic Dehydrogenase 5543\n",
      "Prothrombin time (PT), Activity 5644\n",
      "Vitamin B12 5641\n",
      "Creatine phosphokinase (CPK)  5540\n",
      "Ferritin 5621\n",
      "Arterial Lactic Acid 5617\n",
      "Lipase dosage 5636\n",
      "D-Dimer 5644\n",
      "Albumin 5631\n",
      "Hb saturation (arterial blood gases) 5617\n",
      "pCO2 (arterial blood gas analysis) 5617\n",
      "Base excess (arterial blood gas analysis) 5617\n",
      "pH (arterial blood gas analysis) 5617\n",
      "Total CO2 (arterial blood gas analysis) 5617\n",
      "HCO3 (arterial blood gas analysis) 5617\n",
      "pO2 (arterial blood gas analysis) 5617\n",
      "Arteiral Fio2 5624\n",
      "Phosphor 5624\n",
      "ctO2 (arterial blood gas analysis) 5617\n"
     ]
    }
   ],
   "source": [
    "#Verificando quantidade de valores NaN\n",
    "for i in data.columns:\n",
    "    x= data[i].isna().sum()\n",
    "    print(i , x)"
   ]
  },
  {
   "cell_type": "code",
   "execution_count": 6,
   "metadata": {
    "scrolled": true
   },
   "outputs": [
    {
     "name": "stdout",
     "output_type": "stream",
     "text": [
      "Mycoplasma pneumoniae 5644\n",
      "Urine - Sugar 5644\n",
      "Partial thromboplastin time (PTT)  5644\n",
      "Prothrombin time (PT), Activity 5644\n",
      "D-Dimer 5644\n"
     ]
    }
   ],
   "source": [
    "#Verificar e retirar os valores sem informações\n",
    "for i in data.columns:\n",
    "    x= data[i].isna().sum()\n",
    "    if x == 5644:\n",
    "        print(i , x)"
   ]
  },
  {
   "cell_type": "code",
   "execution_count": 7,
   "metadata": {},
   "outputs": [],
   "source": [
    "#Deletando as colunas que não possuem informações úteis para nós\n",
    "data.drop(columns = [('Mycoplasma pneumoniae'),('Urine - Sugar'),('D-Dimer'),('Prothrombin time (PT), Activity'),('Patient addmited to intensive care unit (1=yes, 0=no)'),('Patient addmited to semi-intensive unit (1=yes, 0=no)'),('Patient addmited to regular ward (1=yes, 0=no)')], axis = 1, inplace = True)\n"
   ]
  },
  {
   "cell_type": "code",
   "execution_count": 8,
   "metadata": {},
   "outputs": [
    {
     "name": "stdout",
     "output_type": "stream",
     "text": [
      "Parainfluenza 1 4292\n",
      "CoronavirusNL63 4292\n",
      "Rhinovirus/Enterovirus 4292\n",
      "Coronavirus HKU1 4292\n",
      "Parainfluenza 3 4292\n",
      "Chlamydophila pneumoniae 4292\n",
      "Adenovirus 4292\n",
      "Parainfluenza 4 4292\n",
      "Coronavirus229E 4292\n",
      "CoronavirusOC43 4292\n",
      "Inf A H1N1 2009 4292\n",
      "Bordetella pertussis 4292\n",
      "Metapneumovirus 4292\n",
      "Parainfluenza 2 4292\n"
     ]
    }
   ],
   "source": [
    "# Segundo menor dados faltantes\n",
    "for i in data.columns:\n",
    "    x= data[i].isna().sum()\n",
    "    if x == 4292:\n",
    "        print(i , x)"
   ]
  },
  {
   "cell_type": "code",
   "execution_count": 9,
   "metadata": {},
   "outputs": [
    {
     "name": "stdout",
     "output_type": "stream",
     "text": [
      "Respiratory Syncytial Virus 4290\n",
      "Influenza A 4290\n",
      "Influenza B 4290\n"
     ]
    }
   ],
   "source": [
    "#Menos dados faltantes\n",
    "for i in data.columns:\n",
    "    x= data[i].isna().sum()\n",
    "    if x == 4290:\n",
    "        print(i , x)"
   ]
  },
  {
   "cell_type": "code",
   "execution_count": 10,
   "metadata": {},
   "outputs": [
    {
     "name": "stdout",
     "output_type": "stream",
     "text": [
      "Hematocrit 5041\n",
      "Hemoglobin 5041\n"
     ]
    }
   ],
   "source": [
    "for i in data.columns:\n",
    "    x= data[i].isna().sum()\n",
    "    if x == 5041:\n",
    "        print(i , x)"
   ]
  },
  {
   "cell_type": "code",
   "execution_count": 11,
   "metadata": {},
   "outputs": [
    {
     "name": "stdout",
     "output_type": "stream",
     "text": [
      "Platelets 5042\n",
      "Red blood Cells 5042\n",
      "Lymphocytes 5042\n",
      "Mean corpuscular hemoglobin concentration (MCHC) 5042\n",
      "Leukocytes 5042\n",
      "Basophils 5042\n",
      "Mean corpuscular hemoglobin (MCH) 5042\n",
      "Eosinophils 5042\n",
      "Mean corpuscular volume (MCV) 5042\n",
      "Red blood cell distribution width (RDW) 5042\n"
     ]
    }
   ],
   "source": [
    "for i in data.columns:\n",
    "    x= data[i].isna().sum()\n",
    "    if x == 5042:\n",
    "        print(i , x)"
   ]
  },
  {
   "cell_type": "code",
   "execution_count": 12,
   "metadata": {},
   "outputs": [
    {
     "data": {
      "image/png": "[encoded data removed]",
      "text/plain": [
       "<Figure size 432x288 with 1 Axes>"
      ]
     },
     "metadata": {
      "needs_background": "light"
     },
     "output_type": "display_data"
    }
   ],
   "source": [
    "#Verificando o balanceamento\n",
    "sns.countplot(data['SARS-Cov-2 exam result'], palette = ['#0000FF', '#FF00FF'])\n",
    "plt.box(False)\n",
    "plt.xlabel('Resultado Teste', fontsize = 11)\n",
    "plt.ylabel('Total Pacientes', fontsize = 11)\n",
    "plt.title('Valores dos Testes')\n",
    "plt.show()"
   ]
  },
  {
   "cell_type": "code",
   "execution_count": 13,
   "metadata": {},
   "outputs": [
    {
     "data": {
      "text/plain": [
       "<matplotlib.axes._subplots.AxesSubplot at 0x7fba8b78a8d0>"
      ]
     },
     "execution_count": 13,
     "metadata": {},
     "output_type": "execute_result"
    },
    {
     "data": {
      "image/png": "[encoded data removed]",
      "text/plain": [
       "<Figure size 432x288 with 1 Axes>"
      ]
     },
     "metadata": {
      "needs_background": "light"
     },
     "output_type": "display_data"
    }
   ],
   "source": [
    "#Verificando a variavel age\n",
    "sns.distplot(data['Patient age quantile'])"
   ]
  },
  {
   "cell_type": "code",
   "execution_count": 14,
   "metadata": {},
   "outputs": [
    {
     "data": {
      "text/plain": [
       "Index(['SARS-Cov-2 exam result', 'Respiratory Syncytial Virus', 'Influenza A',\n",
       "       'Influenza B', 'Parainfluenza 1', 'CoronavirusNL63',\n",
       "       'Rhinovirus/Enterovirus', 'Coronavirus HKU1', 'Parainfluenza 3',\n",
       "       'Chlamydophila pneumoniae', 'Adenovirus', 'Parainfluenza 4',\n",
       "       'Coronavirus229E', 'CoronavirusOC43', 'Inf A H1N1 2009',\n",
       "       'Bordetella pertussis', 'Metapneumovirus', 'Parainfluenza 2',\n",
       "       'Influenza B, rapid test', 'Influenza A, rapid test', 'Strepto A',\n",
       "       'Urine - Esterase', 'Urine - Aspect', 'Urine - pH',\n",
       "       'Urine - Hemoglobin', 'Urine - Bile pigments', 'Urine - Ketone Bodies',\n",
       "       'Urine - Nitrite', 'Urine - Urobilinogen', 'Urine - Protein',\n",
       "       'Urine - Leukocytes', 'Urine - Crystals', 'Urine - Hyaline cylinders',\n",
       "       'Urine - Granular cylinders', 'Urine - Yeasts', 'Urine - Color'],\n",
       "      dtype='object')"
      ]
     },
     "execution_count": 14,
     "metadata": {},
     "output_type": "execute_result"
    }
   ],
   "source": [
    "# Extraindo variáveis do tipo categóricas\n",
    "dfcatname = data.dtypes[data.dtypes == 'object'].index\n",
    "dfcatname"
   ]
  },
  {
   "cell_type": "code",
   "execution_count": 15,
   "metadata": {},
   "outputs": [
    {
     "data": {
      "text/html": [
       "<div>\n",
       "<style scoped>\n",
       "    .dataframe tbody tr th:only-of-type {\n",
       "        vertical-align: middle;\n",
       "    }\n",
       "\n",
       "    .dataframe tbody tr th {\n",
       "        vertical-align: top;\n",
       "    }\n",
       "\n",
       "    .dataframe thead th {\n",
       "        text-align: right;\n",
       "    }\n",
       "</style>\n",
       "<table border=\"1\" class=\"dataframe\">\n",
       "  <thead>\n",
       "    <tr style=\"text-align: right;\">\n",
       "      <th></th>\n",
       "      <th>SARS-Cov-2 exam result</th>\n",
       "      <th>Respiratory Syncytial Virus</th>\n",
       "      <th>Influenza A</th>\n",
       "      <th>Influenza B</th>\n",
       "      <th>Parainfluenza 1</th>\n",
       "      <th>CoronavirusNL63</th>\n",
       "      <th>Rhinovirus/Enterovirus</th>\n",
       "      <th>Coronavirus HKU1</th>\n",
       "      <th>Parainfluenza 3</th>\n",
       "      <th>Chlamydophila pneumoniae</th>\n",
       "      <th>...</th>\n",
       "      <th>Urine - Ketone Bodies</th>\n",
       "      <th>Urine - Nitrite</th>\n",
       "      <th>Urine - Urobilinogen</th>\n",
       "      <th>Urine - Protein</th>\n",
       "      <th>Urine - Leukocytes</th>\n",
       "      <th>Urine - Crystals</th>\n",
       "      <th>Urine - Hyaline cylinders</th>\n",
       "      <th>Urine - Granular cylinders</th>\n",
       "      <th>Urine - Yeasts</th>\n",
       "      <th>Urine - Color</th>\n",
       "    </tr>\n",
       "  </thead>\n",
       "  <tbody>\n",
       "    <tr>\n",
       "      <th>0</th>\n",
       "      <td>negative</td>\n",
       "      <td>NaN</td>\n",
       "      <td>NaN</td>\n",
       "      <td>NaN</td>\n",
       "      <td>NaN</td>\n",
       "      <td>NaN</td>\n",
       "      <td>NaN</td>\n",
       "      <td>NaN</td>\n",
       "      <td>NaN</td>\n",
       "      <td>NaN</td>\n",
       "      <td>...</td>\n",
       "      <td>NaN</td>\n",
       "      <td>NaN</td>\n",
       "      <td>NaN</td>\n",
       "      <td>NaN</td>\n",
       "      <td>NaN</td>\n",
       "      <td>NaN</td>\n",
       "      <td>NaN</td>\n",
       "      <td>NaN</td>\n",
       "      <td>NaN</td>\n",
       "      <td>NaN</td>\n",
       "    </tr>\n",
       "    <tr>\n",
       "      <th>1</th>\n",
       "      <td>negative</td>\n",
       "      <td>not_detected</td>\n",
       "      <td>not_detected</td>\n",
       "      <td>not_detected</td>\n",
       "      <td>not_detected</td>\n",
       "      <td>not_detected</td>\n",
       "      <td>detected</td>\n",
       "      <td>not_detected</td>\n",
       "      <td>not_detected</td>\n",
       "      <td>not_detected</td>\n",
       "      <td>...</td>\n",
       "      <td>NaN</td>\n",
       "      <td>NaN</td>\n",
       "      <td>NaN</td>\n",
       "      <td>NaN</td>\n",
       "      <td>NaN</td>\n",
       "      <td>NaN</td>\n",
       "      <td>NaN</td>\n",
       "      <td>NaN</td>\n",
       "      <td>NaN</td>\n",
       "      <td>NaN</td>\n",
       "    </tr>\n",
       "    <tr>\n",
       "      <th>2</th>\n",
       "      <td>negative</td>\n",
       "      <td>NaN</td>\n",
       "      <td>NaN</td>\n",
       "      <td>NaN</td>\n",
       "      <td>NaN</td>\n",
       "      <td>NaN</td>\n",
       "      <td>NaN</td>\n",
       "      <td>NaN</td>\n",
       "      <td>NaN</td>\n",
       "      <td>NaN</td>\n",
       "      <td>...</td>\n",
       "      <td>NaN</td>\n",
       "      <td>NaN</td>\n",
       "      <td>NaN</td>\n",
       "      <td>NaN</td>\n",
       "      <td>NaN</td>\n",
       "      <td>NaN</td>\n",
       "      <td>NaN</td>\n",
       "      <td>NaN</td>\n",
       "      <td>NaN</td>\n",
       "      <td>NaN</td>\n",
       "    </tr>\n",
       "    <tr>\n",
       "      <th>3</th>\n",
       "      <td>negative</td>\n",
       "      <td>NaN</td>\n",
       "      <td>NaN</td>\n",
       "      <td>NaN</td>\n",
       "      <td>NaN</td>\n",
       "      <td>NaN</td>\n",
       "      <td>NaN</td>\n",
       "      <td>NaN</td>\n",
       "      <td>NaN</td>\n",
       "      <td>NaN</td>\n",
       "      <td>...</td>\n",
       "      <td>NaN</td>\n",
       "      <td>NaN</td>\n",
       "      <td>NaN</td>\n",
       "      <td>NaN</td>\n",
       "      <td>NaN</td>\n",
       "      <td>NaN</td>\n",
       "      <td>NaN</td>\n",
       "      <td>NaN</td>\n",
       "      <td>NaN</td>\n",
       "      <td>NaN</td>\n",
       "    </tr>\n",
       "    <tr>\n",
       "      <th>4</th>\n",
       "      <td>negative</td>\n",
       "      <td>not_detected</td>\n",
       "      <td>not_detected</td>\n",
       "      <td>not_detected</td>\n",
       "      <td>not_detected</td>\n",
       "      <td>not_detected</td>\n",
       "      <td>detected</td>\n",
       "      <td>not_detected</td>\n",
       "      <td>not_detected</td>\n",
       "      <td>not_detected</td>\n",
       "      <td>...</td>\n",
       "      <td>NaN</td>\n",
       "      <td>NaN</td>\n",
       "      <td>NaN</td>\n",
       "      <td>NaN</td>\n",
       "      <td>NaN</td>\n",
       "      <td>NaN</td>\n",
       "      <td>NaN</td>\n",
       "      <td>NaN</td>\n",
       "      <td>NaN</td>\n",
       "      <td>NaN</td>\n",
       "    </tr>\n",
       "  </tbody>\n",
       "</table>\n",
       "<p>5 rows × 36 columns</p>\n",
       "</div>"
      ],
      "text/plain": [
       "  SARS-Cov-2 exam result Respiratory Syncytial Virus   Influenza A  \\\n",
       "0               negative                         NaN           NaN   \n",
       "1               negative                not_detected  not_detected   \n",
       "2               negative                         NaN           NaN   \n",
       "3               negative                         NaN           NaN   \n",
       "4               negative                not_detected  not_detected   \n",
       "\n",
       "    Influenza B Parainfluenza 1 CoronavirusNL63 Rhinovirus/Enterovirus  \\\n",
       "0           NaN             NaN             NaN                    NaN   \n",
       "1  not_detected    not_detected    not_detected               detected   \n",
       "2           NaN             NaN             NaN                    NaN   \n",
       "3           NaN             NaN             NaN                    NaN   \n",
       "4  not_detected    not_detected    not_detected               detected   \n",
       "\n",
       "  Coronavirus HKU1 Parainfluenza 3 Chlamydophila pneumoniae  ...  \\\n",
       "0              NaN             NaN                      NaN  ...   \n",
       "1     not_detected    not_detected             not_detected  ...   \n",
       "2              NaN             NaN                      NaN  ...   \n",
       "3              NaN             NaN                      NaN  ...   \n",
       "4     not_detected    not_detected             not_detected  ...   \n",
       "\n",
       "  Urine - Ketone Bodies Urine - Nitrite Urine - Urobilinogen Urine - Protein  \\\n",
       "0                   NaN             NaN                  NaN             NaN   \n",
       "1                   NaN             NaN                  NaN             NaN   \n",
       "2                   NaN             NaN                  NaN             NaN   \n",
       "3                   NaN             NaN                  NaN             NaN   \n",
       "4                   NaN             NaN                  NaN             NaN   \n",
       "\n",
       "  Urine - Leukocytes Urine - Crystals Urine - Hyaline cylinders  \\\n",
       "0                NaN              NaN                       NaN   \n",
       "1                NaN              NaN                       NaN   \n",
       "2                NaN              NaN                       NaN   \n",
       "3                NaN              NaN                       NaN   \n",
       "4                NaN              NaN                       NaN   \n",
       "\n",
       "  Urine - Granular cylinders Urine - Yeasts Urine - Color  \n",
       "0                        NaN            NaN           NaN  \n",
       "1                        NaN            NaN           NaN  \n",
       "2                        NaN            NaN           NaN  \n",
       "3                        NaN            NaN           NaN  \n",
       "4                        NaN            NaN           NaN  \n",
       "\n",
       "[5 rows x 36 columns]"
      ]
     },
     "execution_count": 15,
     "metadata": {},
     "output_type": "execute_result"
    }
   ],
   "source": [
    "data[dfcatname].head()"
   ]
  },
  {
   "cell_type": "code",
   "execution_count": 16,
   "metadata": {},
   "outputs": [
    {
     "data": {
      "text/html": [
       "<div>\n",
       "<style scoped>\n",
       "    .dataframe tbody tr th:only-of-type {\n",
       "        vertical-align: middle;\n",
       "    }\n",
       "\n",
       "    .dataframe tbody tr th {\n",
       "        vertical-align: top;\n",
       "    }\n",
       "\n",
       "    .dataframe thead th {\n",
       "        text-align: right;\n",
       "    }\n",
       "</style>\n",
       "<table border=\"1\" class=\"dataframe\">\n",
       "  <thead>\n",
       "    <tr style=\"text-align: right;\">\n",
       "      <th></th>\n",
       "      <th>SARS-Cov-2 exam result</th>\n",
       "      <th>Respiratory Syncytial Virus</th>\n",
       "      <th>Influenza A</th>\n",
       "      <th>Influenza B</th>\n",
       "      <th>Parainfluenza 1</th>\n",
       "      <th>CoronavirusNL63</th>\n",
       "      <th>Rhinovirus/Enterovirus</th>\n",
       "      <th>Coronavirus HKU1</th>\n",
       "      <th>Parainfluenza 3</th>\n",
       "      <th>Chlamydophila pneumoniae</th>\n",
       "      <th>...</th>\n",
       "      <th>Urine - Ketone Bodies</th>\n",
       "      <th>Urine - Nitrite</th>\n",
       "      <th>Urine - Urobilinogen</th>\n",
       "      <th>Urine - Protein</th>\n",
       "      <th>Urine - Leukocytes</th>\n",
       "      <th>Urine - Crystals</th>\n",
       "      <th>Urine - Hyaline cylinders</th>\n",
       "      <th>Urine - Granular cylinders</th>\n",
       "      <th>Urine - Yeasts</th>\n",
       "      <th>Urine - Color</th>\n",
       "    </tr>\n",
       "  </thead>\n",
       "  <tbody>\n",
       "    <tr>\n",
       "      <th>count</th>\n",
       "      <td>5644</td>\n",
       "      <td>1354</td>\n",
       "      <td>1354</td>\n",
       "      <td>1354</td>\n",
       "      <td>1352</td>\n",
       "      <td>1352</td>\n",
       "      <td>1352</td>\n",
       "      <td>1352</td>\n",
       "      <td>1352</td>\n",
       "      <td>1352</td>\n",
       "      <td>...</td>\n",
       "      <td>57</td>\n",
       "      <td>1</td>\n",
       "      <td>69</td>\n",
       "      <td>60</td>\n",
       "      <td>70</td>\n",
       "      <td>70</td>\n",
       "      <td>67</td>\n",
       "      <td>69</td>\n",
       "      <td>70</td>\n",
       "      <td>70</td>\n",
       "    </tr>\n",
       "    <tr>\n",
       "      <th>unique</th>\n",
       "      <td>2</td>\n",
       "      <td>2</td>\n",
       "      <td>2</td>\n",
       "      <td>2</td>\n",
       "      <td>2</td>\n",
       "      <td>2</td>\n",
       "      <td>2</td>\n",
       "      <td>2</td>\n",
       "      <td>2</td>\n",
       "      <td>2</td>\n",
       "      <td>...</td>\n",
       "      <td>2</td>\n",
       "      <td>1</td>\n",
       "      <td>2</td>\n",
       "      <td>2</td>\n",
       "      <td>31</td>\n",
       "      <td>5</td>\n",
       "      <td>1</td>\n",
       "      <td>1</td>\n",
       "      <td>1</td>\n",
       "      <td>4</td>\n",
       "    </tr>\n",
       "    <tr>\n",
       "      <th>top</th>\n",
       "      <td>negative</td>\n",
       "      <td>not_detected</td>\n",
       "      <td>not_detected</td>\n",
       "      <td>not_detected</td>\n",
       "      <td>not_detected</td>\n",
       "      <td>not_detected</td>\n",
       "      <td>not_detected</td>\n",
       "      <td>not_detected</td>\n",
       "      <td>not_detected</td>\n",
       "      <td>not_detected</td>\n",
       "      <td>...</td>\n",
       "      <td>absent</td>\n",
       "      <td>not_done</td>\n",
       "      <td>normal</td>\n",
       "      <td>absent</td>\n",
       "      <td>3000</td>\n",
       "      <td>Ausentes</td>\n",
       "      <td>absent</td>\n",
       "      <td>absent</td>\n",
       "      <td>absent</td>\n",
       "      <td>yellow</td>\n",
       "    </tr>\n",
       "    <tr>\n",
       "      <th>freq</th>\n",
       "      <td>5086</td>\n",
       "      <td>1302</td>\n",
       "      <td>1336</td>\n",
       "      <td>1277</td>\n",
       "      <td>1349</td>\n",
       "      <td>1307</td>\n",
       "      <td>973</td>\n",
       "      <td>1332</td>\n",
       "      <td>1342</td>\n",
       "      <td>1343</td>\n",
       "      <td>...</td>\n",
       "      <td>56</td>\n",
       "      <td>1</td>\n",
       "      <td>68</td>\n",
       "      <td>59</td>\n",
       "      <td>9</td>\n",
       "      <td>65</td>\n",
       "      <td>67</td>\n",
       "      <td>69</td>\n",
       "      <td>70</td>\n",
       "      <td>55</td>\n",
       "    </tr>\n",
       "  </tbody>\n",
       "</table>\n",
       "<p>4 rows × 36 columns</p>\n",
       "</div>"
      ],
      "text/plain": [
       "       SARS-Cov-2 exam result Respiratory Syncytial Virus   Influenza A  \\\n",
       "count                    5644                        1354          1354   \n",
       "unique                      2                           2             2   \n",
       "top                  negative                not_detected  not_detected   \n",
       "freq                     5086                        1302          1336   \n",
       "\n",
       "         Influenza B Parainfluenza 1 CoronavirusNL63 Rhinovirus/Enterovirus  \\\n",
       "count           1354            1352            1352                   1352   \n",
       "unique             2               2               2                      2   \n",
       "top     not_detected    not_detected    not_detected           not_detected   \n",
       "freq            1277            1349            1307                    973   \n",
       "\n",
       "       Coronavirus HKU1 Parainfluenza 3 Chlamydophila pneumoniae  ...  \\\n",
       "count              1352            1352                     1352  ...   \n",
       "unique                2               2                        2  ...   \n",
       "top        not_detected    not_detected             not_detected  ...   \n",
       "freq               1332            1342                     1343  ...   \n",
       "\n",
       "       Urine - Ketone Bodies Urine - Nitrite Urine - Urobilinogen  \\\n",
       "count                     57               1                   69   \n",
       "unique                     2               1                    2   \n",
       "top                   absent        not_done               normal   \n",
       "freq                      56               1                   68   \n",
       "\n",
       "       Urine - Protein Urine - Leukocytes Urine - Crystals  \\\n",
       "count               60                 70               70   \n",
       "unique               2                 31                5   \n",
       "top             absent               3000         Ausentes   \n",
       "freq                59                  9               65   \n",
       "\n",
       "       Urine - Hyaline cylinders Urine - Granular cylinders Urine - Yeasts  \\\n",
       "count                         67                         69             70   \n",
       "unique                         1                          1              1   \n",
       "top                       absent                     absent         absent   \n",
       "freq                          67                         69             70   \n",
       "\n",
       "       Urine - Color  \n",
       "count             70  \n",
       "unique             4  \n",
       "top           yellow  \n",
       "freq              55  \n",
       "\n",
       "[4 rows x 36 columns]"
      ]
     },
     "execution_count": 16,
     "metadata": {},
     "output_type": "execute_result"
    }
   ],
   "source": [
    "data[dfcatname].describe()"
   ]
  },
  {
   "cell_type": "code",
   "execution_count": 17,
   "metadata": {},
   "outputs": [],
   "source": [
    "non_num_cols = data.select_dtypes(['object']).columns\n",
    "non_num_cols\n",
    "\n",
    "for name in non_num_cols:\n",
    "    data[name] = data[name].astype('category')\n",
    "\n",
    "data[non_num_cols] = data[non_num_cols].apply(lambda x: x.cat.codes)"
   ]
  },
  {
   "cell_type": "code",
   "execution_count": 18,
   "metadata": {},
   "outputs": [],
   "source": [
    "X = data.drop(columns = ('SARS-Cov-2 exam result'))\n",
    "Y = data['SARS-Cov-2 exam result']"
   ]
  },
  {
   "cell_type": "code",
   "execution_count": 19,
   "metadata": {},
   "outputs": [
    {
     "data": {
      "text/plain": [
       "((5644, 102), (5644,))"
      ]
     },
     "execution_count": 19,
     "metadata": {},
     "output_type": "execute_result"
    }
   ],
   "source": [
    "X.shape,Y.shape"
   ]
  },
  {
   "cell_type": "code",
   "execution_count": 20,
   "metadata": {},
   "outputs": [],
   "source": [
    "# DataFrame com dados com maior quantidade de informações\n",
    "data2 = pd.DataFrame(data, columns = ['Patient age quantile', 'Parainfluenza','CoronavirusNL63','Rhinovirus/Enterovirus','Coronavirus HKU1','Chlamydophila pneumoniae','Adenovirus','Coronavirus229E','CoronavirusOC43','Inf A H1N1','Bordetella pertussis','Metapneumovirus','Respiratory Syncytial Virus','Influenza A','Influenza B','Hematocrit','Hemoglobin','Platelets','Red blood Cells', 'Lymphocytes','Mean corpuscular hemoglobin concentration (MCHC)','Leukocytes','Basophils','Mean corpuscular hemoglobin (MCH)', \n",
    "'Eosinophils','Mean corpuscular volume (MCV)','Red blood cell distribution width (RDW)', 'SARS-Cov-2 exam result'])"
   ]
  },
  {
   "cell_type": "code",
   "execution_count": 21,
   "metadata": {},
   "outputs": [
    {
     "data": {
      "text/html": [
       "<div>\n",
       "<style scoped>\n",
       "    .dataframe tbody tr th:only-of-type {\n",
       "        vertical-align: middle;\n",
       "    }\n",
       "\n",
       "    .dataframe tbody tr th {\n",
       "        vertical-align: top;\n",
       "    }\n",
       "\n",
       "    .dataframe thead th {\n",
       "        text-align: right;\n",
       "    }\n",
       "</style>\n",
       "<table border=\"1\" class=\"dataframe\">\n",
       "  <thead>\n",
       "    <tr style=\"text-align: right;\">\n",
       "      <th></th>\n",
       "      <th>Patient age quantile</th>\n",
       "      <th>Parainfluenza</th>\n",
       "      <th>CoronavirusNL63</th>\n",
       "      <th>Rhinovirus/Enterovirus</th>\n",
       "      <th>Coronavirus HKU1</th>\n",
       "      <th>Chlamydophila pneumoniae</th>\n",
       "      <th>Adenovirus</th>\n",
       "      <th>Coronavirus229E</th>\n",
       "      <th>CoronavirusOC43</th>\n",
       "      <th>Inf A H1N1</th>\n",
       "      <th>...</th>\n",
       "      <th>Red blood Cells</th>\n",
       "      <th>Lymphocytes</th>\n",
       "      <th>Mean corpuscular hemoglobin concentration (MCHC)</th>\n",
       "      <th>Leukocytes</th>\n",
       "      <th>Basophils</th>\n",
       "      <th>Mean corpuscular hemoglobin (MCH)</th>\n",
       "      <th>Eosinophils</th>\n",
       "      <th>Mean corpuscular volume (MCV)</th>\n",
       "      <th>Red blood cell distribution width (RDW)</th>\n",
       "      <th>SARS-Cov-2 exam result</th>\n",
       "    </tr>\n",
       "  </thead>\n",
       "  <tbody>\n",
       "    <tr>\n",
       "      <th>0</th>\n",
       "      <td>13</td>\n",
       "      <td>NaN</td>\n",
       "      <td>-1</td>\n",
       "      <td>-1</td>\n",
       "      <td>-1</td>\n",
       "      <td>-1</td>\n",
       "      <td>-1</td>\n",
       "      <td>-1</td>\n",
       "      <td>-1</td>\n",
       "      <td>NaN</td>\n",
       "      <td>...</td>\n",
       "      <td>NaN</td>\n",
       "      <td>NaN</td>\n",
       "      <td>NaN</td>\n",
       "      <td>NaN</td>\n",
       "      <td>NaN</td>\n",
       "      <td>NaN</td>\n",
       "      <td>NaN</td>\n",
       "      <td>NaN</td>\n",
       "      <td>NaN</td>\n",
       "      <td>0</td>\n",
       "    </tr>\n",
       "    <tr>\n",
       "      <th>1</th>\n",
       "      <td>17</td>\n",
       "      <td>NaN</td>\n",
       "      <td>1</td>\n",
       "      <td>0</td>\n",
       "      <td>1</td>\n",
       "      <td>1</td>\n",
       "      <td>1</td>\n",
       "      <td>1</td>\n",
       "      <td>1</td>\n",
       "      <td>NaN</td>\n",
       "      <td>...</td>\n",
       "      <td>0.102004</td>\n",
       "      <td>0.318366</td>\n",
       "      <td>NaN</td>\n",
       "      <td>-0.09461</td>\n",
       "      <td>-0.223767</td>\n",
       "      <td>-0.292269</td>\n",
       "      <td>1.482158</td>\n",
       "      <td>0.166192</td>\n",
       "      <td>-0.625073</td>\n",
       "      <td>0</td>\n",
       "    </tr>\n",
       "    <tr>\n",
       "      <th>2</th>\n",
       "      <td>8</td>\n",
       "      <td>NaN</td>\n",
       "      <td>-1</td>\n",
       "      <td>-1</td>\n",
       "      <td>-1</td>\n",
       "      <td>-1</td>\n",
       "      <td>-1</td>\n",
       "      <td>-1</td>\n",
       "      <td>-1</td>\n",
       "      <td>NaN</td>\n",
       "      <td>...</td>\n",
       "      <td>NaN</td>\n",
       "      <td>NaN</td>\n",
       "      <td>NaN</td>\n",
       "      <td>NaN</td>\n",
       "      <td>NaN</td>\n",
       "      <td>NaN</td>\n",
       "      <td>NaN</td>\n",
       "      <td>NaN</td>\n",
       "      <td>NaN</td>\n",
       "      <td>0</td>\n",
       "    </tr>\n",
       "    <tr>\n",
       "      <th>3</th>\n",
       "      <td>5</td>\n",
       "      <td>NaN</td>\n",
       "      <td>-1</td>\n",
       "      <td>-1</td>\n",
       "      <td>-1</td>\n",
       "      <td>-1</td>\n",
       "      <td>-1</td>\n",
       "      <td>-1</td>\n",
       "      <td>-1</td>\n",
       "      <td>NaN</td>\n",
       "      <td>...</td>\n",
       "      <td>NaN</td>\n",
       "      <td>NaN</td>\n",
       "      <td>NaN</td>\n",
       "      <td>NaN</td>\n",
       "      <td>NaN</td>\n",
       "      <td>NaN</td>\n",
       "      <td>NaN</td>\n",
       "      <td>NaN</td>\n",
       "      <td>NaN</td>\n",
       "      <td>0</td>\n",
       "    </tr>\n",
       "    <tr>\n",
       "      <th>4</th>\n",
       "      <td>15</td>\n",
       "      <td>NaN</td>\n",
       "      <td>1</td>\n",
       "      <td>0</td>\n",
       "      <td>1</td>\n",
       "      <td>1</td>\n",
       "      <td>1</td>\n",
       "      <td>1</td>\n",
       "      <td>1</td>\n",
       "      <td>NaN</td>\n",
       "      <td>...</td>\n",
       "      <td>NaN</td>\n",
       "      <td>NaN</td>\n",
       "      <td>NaN</td>\n",
       "      <td>NaN</td>\n",
       "      <td>NaN</td>\n",
       "      <td>NaN</td>\n",
       "      <td>NaN</td>\n",
       "      <td>NaN</td>\n",
       "      <td>NaN</td>\n",
       "      <td>0</td>\n",
       "    </tr>\n",
       "  </tbody>\n",
       "</table>\n",
       "<p>5 rows × 28 columns</p>\n",
       "</div>"
      ],
      "text/plain": [
       "   Patient age quantile  Parainfluenza  CoronavirusNL63  \\\n",
       "0                    13            NaN               -1   \n",
       "1                    17            NaN                1   \n",
       "2                     8            NaN               -1   \n",
       "3                     5            NaN               -1   \n",
       "4                    15            NaN                1   \n",
       "\n",
       "   Rhinovirus/Enterovirus  Coronavirus HKU1  Chlamydophila pneumoniae  \\\n",
       "0                      -1                -1                        -1   \n",
       "1                       0                 1                         1   \n",
       "2                      -1                -1                        -1   \n",
       "3                      -1                -1                        -1   \n",
       "4                       0                 1                         1   \n",
       "\n",
       "   Adenovirus  Coronavirus229E  CoronavirusOC43  Inf A H1N1  ...  \\\n",
       "0          -1               -1               -1         NaN  ...   \n",
       "1           1                1                1         NaN  ...   \n",
       "2          -1               -1               -1         NaN  ...   \n",
       "3          -1               -1               -1         NaN  ...   \n",
       "4           1                1                1         NaN  ...   \n",
       "\n",
       "   Red blood Cells  Lymphocytes  \\\n",
       "0              NaN          NaN   \n",
       "1         0.102004     0.318366   \n",
       "2              NaN          NaN   \n",
       "3              NaN          NaN   \n",
       "4              NaN          NaN   \n",
       "\n",
       "   Mean corpuscular hemoglobin concentration (MCHC)  Leukocytes  Basophils  \\\n",
       "0                                               NaN         NaN        NaN   \n",
       "1                                               NaN    -0.09461  -0.223767   \n",
       "2                                               NaN         NaN        NaN   \n",
       "3                                               NaN         NaN        NaN   \n",
       "4                                               NaN         NaN        NaN   \n",
       "\n",
       "   Mean corpuscular hemoglobin (MCH)  Eosinophils  \\\n",
       "0                                NaN          NaN   \n",
       "1                          -0.292269     1.482158   \n",
       "2                                NaN          NaN   \n",
       "3                                NaN          NaN   \n",
       "4                                NaN          NaN   \n",
       "\n",
       "   Mean corpuscular volume (MCV)  Red blood cell distribution width (RDW)  \\\n",
       "0                            NaN                                      NaN   \n",
       "1                       0.166192                                -0.625073   \n",
       "2                            NaN                                      NaN   \n",
       "3                            NaN                                      NaN   \n",
       "4                            NaN                                      NaN   \n",
       "\n",
       "   SARS-Cov-2 exam result  \n",
       "0                       0  \n",
       "1                       0  \n",
       "2                       0  \n",
       "3                       0  \n",
       "4                       0  \n",
       "\n",
       "[5 rows x 28 columns]"
      ]
     },
     "execution_count": 21,
     "metadata": {},
     "output_type": "execute_result"
    }
   ],
   "source": [
    "data2.head()"
   ]
  },
  {
   "cell_type": "code",
   "execution_count": 22,
   "metadata": {},
   "outputs": [],
   "source": [
    "data2.fillna('NaoRealizado', inplace = True)"
   ]
  },
  {
   "cell_type": "code",
   "execution_count": 23,
   "metadata": {},
   "outputs": [
    {
     "data": {
      "text/plain": [
       "Index(['Parainfluenza', 'Inf A H1N1', 'Hematocrit', 'Hemoglobin', 'Platelets',\n",
       "       'Red blood Cells', 'Lymphocytes',\n",
       "       'Mean corpuscular hemoglobin concentration (MCHC)', 'Leukocytes',\n",
       "       'Basophils', 'Mean corpuscular hemoglobin (MCH)', 'Eosinophils',\n",
       "       'Mean corpuscular volume (MCV)',\n",
       "       'Red blood cell distribution width (RDW)'],\n",
       "      dtype='object')"
      ]
     },
     "execution_count": 23,
     "metadata": {},
     "output_type": "execute_result"
    }
   ],
   "source": [
    "# Extraindo variáveis do tipo categóricas\n",
    "dfcatname = data2.dtypes[data2.dtypes == 'object'].index\n",
    "dfcatname"
   ]
  },
  {
   "cell_type": "code",
   "execution_count": 24,
   "metadata": {},
   "outputs": [],
   "source": [
    "non_num_cols = data2.select_dtypes(['object']).columns\n",
    "non_num_cols\n",
    "\n",
    "for name in non_num_cols:\n",
    "    data2[name] = data2[name].astype('category')\n",
    "\n",
    "data2[non_num_cols] = data2[non_num_cols].apply(lambda x: x.cat.codes)"
   ]
  },
  {
   "cell_type": "code",
   "execution_count": 25,
   "metadata": {},
   "outputs": [],
   "source": [
    "data2.drop(columns = [('Mean corpuscular hemoglobin concentration (MCHC)'), ('Parainfluenza'),('Inf A H1N1')], axis = 1, inplace = True)"
   ]
  },
  {
   "cell_type": "code",
   "execution_count": 26,
   "metadata": {},
   "outputs": [
    {
     "data": {
      "text/plain": [
       "<matplotlib.axes._subplots.AxesSubplot at 0x7fba91d0cfd0>"
      ]
     },
     "execution_count": 26,
     "metadata": {},
     "output_type": "execute_result"
    },
    {
     "data": {
      "image/png": "[encoded data removed]",
      "text/plain": [
       "<Figure size 720x576 with 2 Axes>"
      ]
     },
     "metadata": {
      "needs_background": "light"
     },
     "output_type": "display_data"
    }
   ],
   "source": [
    "#Verificando as correlações\n",
    "plt.figure(figsize= (10,8))\n",
    "corr = data2.corr()\n",
    "sns.heatmap(corr)"
   ]
  },
  {
   "cell_type": "code",
   "execution_count": 27,
   "metadata": {},
   "outputs": [
    {
     "name": "stdout",
     "output_type": "stream",
     "text": [
      "Index(['Patient age quantile', 'CoronavirusNL63', 'Rhinovirus/Enterovirus',\n",
      "       'Coronavirus HKU1', 'Chlamydophila pneumoniae', 'Adenovirus',\n",
      "       'Coronavirus229E', 'CoronavirusOC43', 'Bordetella pertussis',\n",
      "       'Metapneumovirus', 'Respiratory Syncytial Virus', 'Influenza A',\n",
      "       'Influenza B', 'Hematocrit', 'Hemoglobin', 'Platelets',\n",
      "       'Red blood Cells', 'Lymphocytes', 'Leukocytes', 'Basophils',\n",
      "       'Mean corpuscular hemoglobin (MCH)', 'Eosinophils',\n",
      "       'Mean corpuscular volume (MCV)',\n",
      "       'Red blood cell distribution width (RDW)', 'SARS-Cov-2 exam result'],\n",
      "      dtype='object')\n",
      "[0.21417962 0.01331736 0.02935436 0.00469447 0.00226942 0.00291984\n",
      " 0.0059421  0.00330867 0.00261294 0.00408024 0.00370785 0.0043256\n",
      " 0.01422616 0.05060452 0.04857636 0.09334649 0.05525927 0.05112587\n",
      " 0.13282069 0.05130504 0.04403015 0.07174686 0.04921777 0.04702835]\n"
     ]
    }
   ],
   "source": [
    "# Verificando a importância dos Atributos com o Extra Trees Classifier\n",
    "\n",
    "from sklearn.ensemble import ExtraTreesClassifier\n",
    "\n",
    "X2 = data2.drop(columns = ('SARS-Cov-2 exam result'))\n",
    "Y2 = data2['SARS-Cov-2 exam result']\n",
    "\n",
    "# Criação do Modelo - Feature Selection\n",
    "modelo = ExtraTreesClassifier()\n",
    "modelo.fit(X2, Y2)\n",
    "\n",
    "\n",
    "# Print dos Resultados\n",
    "print(data2.columns)\n",
    "print(modelo.feature_importances_)\n",
    "\n"
   ]
  },
  {
   "cell_type": "code",
   "execution_count": 28,
   "metadata": {},
   "outputs": [],
   "source": [
    "feature_imp = pd.Series(modelo.feature_importances_,index=X2.columns).sort_values(ascending=False)"
   ]
  },
  {
   "cell_type": "code",
   "execution_count": 29,
   "metadata": {},
   "outputs": [],
   "source": [
    "def visualiza_features_importantes(features_lista):\n",
    "    %matplotlib inline\n",
    "\n",
    "    plt.figure(figsize=(16,8))\n",
    "    sns.barplot(x=features_lista, y=features_lista.index )\n",
    "\n",
    "    plt.xlabel('Feature Importance Score')\n",
    "    plt.ylabel('Features')\n",
    "    plt.title(\"Visualizing Important Features\")\n",
    "    plt.show()\n"
   ]
  },
  {
   "cell_type": "markdown",
   "metadata": {},
   "source": [
    "Verificando as variáveis com maior importância na predição da doença. Percebemos que a idade possui uma peso grande, como era o esperado, seguida de leucócitos e plaquetas."
   ]
  },
  {
   "cell_type": "code",
   "execution_count": 30,
   "metadata": {},
   "outputs": [
    {
     "data": {
      "image/png": "[encoded data removed]",
      "text/plain": [
       "<Figure size 1152x576 with 1 Axes>"
      ]
     },
     "metadata": {
      "needs_background": "light"
     },
     "output_type": "display_data"
    }
   ],
   "source": [
    "#Verificando os pesos de cada variável na predição\n",
    "plt.figure(figsize= (10,8))\n",
    "visualiza_features_importantes(feature_imp)"
   ]
  },
  {
   "cell_type": "code",
   "execution_count": 31,
   "metadata": {},
   "outputs": [
    {
     "data": {
      "text/plain": [
       "Patient age quantile                       0.214180\n",
       "Leukocytes                                 0.132821\n",
       "Platelets                                  0.093346\n",
       "Eosinophils                                0.071747\n",
       "Red blood Cells                            0.055259\n",
       "Basophils                                  0.051305\n",
       "Lymphocytes                                0.051126\n",
       "Hematocrit                                 0.050605\n",
       "Mean corpuscular volume (MCV)              0.049218\n",
       "Hemoglobin                                 0.048576\n",
       "Red blood cell distribution width (RDW)    0.047028\n",
       "Mean corpuscular hemoglobin (MCH)          0.044030\n",
       "Rhinovirus/Enterovirus                     0.029354\n",
       "Influenza B                                0.014226\n",
       "CoronavirusNL63                            0.013317\n",
       "Coronavirus229E                            0.005942\n",
       "Coronavirus HKU1                           0.004694\n",
       "Influenza A                                0.004326\n",
       "Metapneumovirus                            0.004080\n",
       "Respiratory Syncytial Virus                0.003708\n",
       "CoronavirusOC43                            0.003309\n",
       "Adenovirus                                 0.002920\n",
       "Bordetella pertussis                       0.002613\n",
       "Chlamydophila pneumoniae                   0.002269\n",
       "dtype: float64"
      ]
     },
     "execution_count": 31,
     "metadata": {},
     "output_type": "execute_result"
    }
   ],
   "source": [
    "feature_imp"
   ]
  },
  {
   "cell_type": "code",
   "execution_count": 32,
   "metadata": {},
   "outputs": [
    {
     "data": {
      "image/png": "[encoded data removed]",
      "text/plain": [
       "<Figure size 489.25x360 with 1 Axes>"
      ]
     },
     "metadata": {
      "needs_background": "light"
     },
     "output_type": "display_data"
    }
   ],
   "source": [
    "# Usando mais de 2 variáveis\n",
    "sns.lmplot(x = \"Leukocytes\", y = \"Platelets\", hue = \"SARS-Cov-2 exam result\", data = data);"
   ]
  },
  {
   "cell_type": "code",
   "execution_count": 33,
   "metadata": {},
   "outputs": [
    {
     "data": {
      "image/png": "[encoded data removed]",
      "text/plain": [
       "<Figure size 432x288 with 1 Axes>"
      ]
     },
     "metadata": {
      "needs_background": "light"
     },
     "output_type": "display_data"
    }
   ],
   "source": [
    "# barplot\n",
    "sns.scatterplot(x = \"Patient age quantile\",y = \"Leukocytes\", hue = \"SARS-Cov-2 exam result\", data = data);"
   ]
  },
  {
   "cell_type": "code",
   "execution_count": 34,
   "metadata": {},
   "outputs": [
    {
     "data": {
      "image/png": "[encoded data removed]",
      "text/plain": [
       "<Figure size 432x432 with 3 Axes>"
      ]
     },
     "metadata": {
      "needs_background": "light"
     },
     "output_type": "display_data"
    }
   ],
   "source": [
    "# Distribuição bivariada\n",
    "g = sns.jointplot(x = \"Patient age quantile\", y = \"Leukocytes\", data = data, kind = \"kde\", color = \"m\")\n",
    "g.plot_joint(plt.scatter, c = \"w\", s = 30, linewidth = 1, marker = \"+\")\n",
    "g.ax_joint.collections[0].set_alpha(0);"
   ]
  },
  {
   "cell_type": "code",
   "execution_count": 35,
   "metadata": {},
   "outputs": [
    {
     "name": "stdout",
     "output_type": "stream",
     "text": [
      "Patient age quantile:\t0.21417961777203798\n",
      "Leukocytes:\t0.13282069124715498\n",
      "Platelets:\t0.09334648708424594\n",
      "Eosinophils:\t0.07174685740362913\n",
      "Red blood Cells:\t0.055259269854831504\n",
      "Basophils:\t0.05130504479086089\n",
      "Lymphocytes:\t0.05112587287661215\n",
      "Hematocrit:\t0.05060451876885377\n"
     ]
    }
   ],
   "source": [
    "#Limitando as variáveis para observar o comportamento.\n",
    "features_selecionadas = []\n",
    "for feature,importancia in feature_imp.iteritems():\n",
    "    if   importancia > 0.05 :\n",
    "        print(\"{}:\\t{}\".format(feature, importancia))\n",
    "        features_selecionadas.append(feature)"
   ]
  },
  {
   "cell_type": "code",
   "execution_count": 36,
   "metadata": {},
   "outputs": [],
   "source": [
    "X_over =  X2[features_selecionadas]\n",
    "Y_over =  Y2"
   ]
  },
  {
   "cell_type": "code",
   "execution_count": 37,
   "metadata": {},
   "outputs": [
    {
     "data": {
      "text/plain": [
       "((5644, 8), (5644,))"
      ]
     },
     "execution_count": 37,
     "metadata": {},
     "output_type": "execute_result"
    }
   ],
   "source": [
    "X_over.shape,Y_over.shape"
   ]
  },
  {
   "cell_type": "code",
   "execution_count": 38,
   "metadata": {},
   "outputs": [
    {
     "name": "stderr",
     "output_type": "stream",
     "text": [
      "Using TensorFlow backend.\n"
     ]
    },
    {
     "name": "stdout",
     "output_type": "stream",
     "text": [
      "Original dataset shape Counter({0: 50, 1: 50})\n",
      "Resampled dataset shape Counter({0: 50, 1: 50})\n"
     ]
    }
   ],
   "source": [
    "from collections import Counter\n",
    "from sklearn.datasets import make_classification\n",
    "from imblearn.under_sampling import RandomUnderSampler \n",
    "\n",
    "X_over, Y_over = make_classification()\n",
    "\n",
    "print('Original dataset shape %s' % Counter(Y_over))\n",
    "\n",
    "\n",
    "rus = RandomUnderSampler(random_state=42)\n",
    "X_res, y_res = rus.fit_resample(X_over, Y_over)\n",
    "print('Resampled dataset shape %s' % Counter(y_res))\n"
   ]
  },
  {
   "cell_type": "code",
   "execution_count": 39,
   "metadata": {},
   "outputs": [
    {
     "data": {
      "text/plain": [
       "((100, 20), (100,))"
      ]
     },
     "execution_count": 39,
     "metadata": {},
     "output_type": "execute_result"
    }
   ],
   "source": [
    "X_res.shape,y_res.shape"
   ]
  },
  {
   "cell_type": "code",
   "execution_count": 40,
   "metadata": {},
   "outputs": [
    {
     "data": {
      "image/png": "[encoded data removed]",
      "text/plain": [
       "<Figure size 432x288 with 1 Axes>"
      ]
     },
     "metadata": {
      "needs_background": "light"
     },
     "output_type": "display_data"
    }
   ],
   "source": [
    "#Verificando o balanceamento\n",
    "sns.countplot(y_res, palette = ['#0000FF', '#FF00FF'])\n",
    "plt.box(False)\n",
    "plt.xlabel('Resultado Teste', fontsize = 11)\n",
    "plt.ylabel('Total Pacientes', fontsize = 11)\n",
    "plt.title('Valores dos Testes')\n",
    "plt.show()"
   ]
  },
  {
   "cell_type": "code",
   "execution_count": 41,
   "metadata": {},
   "outputs": [],
   "source": [
    "#Separando dados de treino e teste\n",
    "from sklearn.model_selection import train_test_split\n",
    "X_train, X_test, y_train, y_test = train_test_split(\n",
    "    X_res,\n",
    "    y_res,\n",
    "    test_size=0.2,\n",
    "    random_state=42\n",
    ")\n"
   ]
  },
  {
   "cell_type": "markdown",
   "metadata": {},
   "source": [
    "TASK 1\n",
    "\n",
    "Após análise e tratamento, utilizamos o algoritmo SVC para predição.\n"
   ]
  },
  {
   "cell_type": "code",
   "execution_count": 42,
   "metadata": {},
   "outputs": [
    {
     "name": "stdout",
     "output_type": "stream",
     "text": [
      "              precision    recall  f1-score   support\n",
      "\n",
      "           0       1.00      0.92      0.96        12\n",
      "           1       0.89      1.00      0.94         8\n",
      "\n",
      "    accuracy                           0.95        20\n",
      "   macro avg       0.94      0.96      0.95        20\n",
      "weighted avg       0.96      0.95      0.95        20\n",
      "\n"
     ]
    }
   ],
   "source": [
    "#Verificando predição da doença em SVC\n",
    "from sklearn.svm import SVC\n",
    "from sklearn.metrics import roc_auc_score\n",
    "from sklearn.metrics import classification_report\n",
    "from sklearn.model_selection import cross_val_predict\n",
    "\n",
    "clf = SVC(C = .010, gamma = .01, kernel = 'linear',probability=True)\n",
    "clf.fit(X_train, y_train)\n",
    "resultado_svc = clf.predict(X_test)\n",
    "score = roc_auc_score(y_test, resultado_svc)\n",
    "score\n",
    "print(classification_report(y_test,resultado_svc))\n"
   ]
  },
  {
   "cell_type": "code",
   "execution_count": 45,
   "metadata": {},
   "outputs": [
    {
     "name": "stderr",
     "output_type": "stream",
     "text": [
      "/home/jfs/anaconda3/lib/python3.7/site-packages/sklearn/utils/deprecation.py:87: FutureWarning: Function plot_roc_curve is deprecated; This will be removed in v0.5.0. Please use scikitplot.metrics.plot_roc instead.\n",
      "  warnings.warn(msg, category=FutureWarning)\n"
     ]
    },
    {
     "data": {
      "image/png": "[encoded data removed]",
      "text/plain": [
       "<Figure size 432x288 with 1 Axes>"
      ]
     },
     "metadata": {
      "needs_background": "light"
     },
     "output_type": "display_data"
    }
   ],
   "source": [
    " import scikitplot as skplt\n",
    "# Calcula a Curva ROC para cada classe\n",
    "y_probs_v1 = clf.predict_proba(X_test)\n",
    "skplt.metrics.plot_roc_curve(y_test, y_probs_v1)\n",
    "plt.show()"
   ]
  },
  {
   "cell_type": "markdown",
   "metadata": {},
   "source": [
    "Agora utilizamos o algoritmo XGBoost para predição. Como possuimos poucos dados, há grande chance de ocorrer overfitting."
   ]
  },
  {
   "cell_type": "code",
   "execution_count": 46,
   "metadata": {},
   "outputs": [
    {
     "data": {
      "text/plain": [
       "0.9947916666666666"
      ]
     },
     "execution_count": 46,
     "metadata": {},
     "output_type": "execute_result"
    }
   ],
   "source": [
    "#Utilizando XGBoost\n",
    "import xgboost as xgb\n",
    "from xgboost import XGBClassifier\n",
    "from sklearn.metrics import roc_auc_score\n",
    "\n",
    "modelo_xg = xgb.XGBClassifier(learning_rate = 0.1, \n",
    "                              max_depth = 3, \n",
    "                              n_estimators = 1000,\n",
    "                             min_child_weight = 5,\n",
    "                             gamma = 0.1,\n",
    "                             reg_alpha=1,\n",
    "                            reg_lambda=1.5)\n",
    "modelo_xg.fit(X_train,y_train)    \n",
    "resultado2 = modelo_xg.predict_proba(X_test)[:,1]\n",
    "valores_previstos2 = modelo_xg.predict(X_test)\n",
    "score = roc_auc_score(y_test, resultado2)\n",
    "score"
   ]
  },
  {
   "cell_type": "code",
   "execution_count": 47,
   "metadata": {},
   "outputs": [
    {
     "name": "stdout",
     "output_type": "stream",
     "text": [
      "              precision    recall  f1-score   support\n",
      "\n",
      "           0       1.00      0.92      0.96        12\n",
      "           1       0.89      1.00      0.94         8\n",
      "\n",
      "    accuracy                           0.95        20\n",
      "   macro avg       0.94      0.96      0.95        20\n",
      "weighted avg       0.96      0.95      0.95        20\n",
      "\n"
     ]
    }
   ],
   "source": [
    "print(classification_report(y_test,valores_previstos2))"
   ]
  },
  {
   "cell_type": "code",
   "execution_count": 48,
   "metadata": {},
   "outputs": [
    {
     "name": "stderr",
     "output_type": "stream",
     "text": [
      "/home/jfs/anaconda3/lib/python3.7/site-packages/sklearn/utils/deprecation.py:87: FutureWarning: Function plot_roc_curve is deprecated; This will be removed in v0.5.0. Please use scikitplot.metrics.plot_roc instead.\n",
      "  warnings.warn(msg, category=FutureWarning)\n"
     ]
    },
    {
     "data": {
      "image/png": "[encoded data removed]",
      "text/plain": [
       "<Figure size 432x288 with 1 Axes>"
      ]
     },
     "metadata": {
      "needs_background": "light"
     },
     "output_type": "display_data"
    }
   ],
   "source": [
    "# Calcula a Curva ROC para cada classe\n",
    "y_probs_v1 = modelo_xg.predict_proba(X_test)\n",
    "skplt.metrics.plot_roc_curve(y_test, y_probs_v1)\n",
    "plt.show()"
   ]
  },
  {
   "cell_type": "code",
   "execution_count": null,
   "metadata": {},
   "outputs": [],
   "source": []
  }
 ],
 "metadata": {
  "kernelspec": {
   "display_name": "Python 3",
   "language": "python",
   "name": "python3"
  },
  "language_info": {
   "codemirror_mode": {
    "name": "ipython",
    "version": 3
   },
   "file_extension": ".py",
   "mimetype": "text/x-python",
   "name": "python",
   "nbconvert_exporter": "python",
   "pygments_lexer": "ipython3",
   "version": "3.7.4"
  }
 },
 "nbformat": 4,
 "nbformat_minor": 2
}
